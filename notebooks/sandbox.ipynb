{
 "cells": [
  {
   "cell_type": "code",
   "execution_count": null,
   "metadata": {},
   "outputs": [],
   "source": [
    "import os\n",
    "import sys\n",
    "import json\n",
    "import numpy as np\n",
    "import pandas as pd\n",
    "import torch\n",
    "from torch import nn\n",
    "from torch.utils.data import DataLoader\n",
    "import torch.nn.functional as F\n",
    "import torchvision\n",
    "from torchvision import transforms\n",
    "from sklearn.metrics import ConfusionMatrixDisplay\n",
    "from tqdm import tqdm\n",
    "\n",
    "sys.path.append(\"..\")\n",
    "\n",
    "DATA_PATH = os.path.join(\"..\", \"data\")\n",
    "CHECKPOINTS_PATH =  os.path.join(\"..\", \"checkpoints\")\n",
    "device = \"cuda\""
   ]
  },
  {
   "cell_type": "markdown",
   "metadata": {},
   "source": [
    "### Custom models\n",
    "\n",
    "1. AlexNet\n"
   ]
  },
  {
   "cell_type": "code",
   "execution_count": 34,
   "metadata": {},
   "outputs": [],
   "source": [
    "class AlexNet_32x32(nn.Module):\n",
    "    def __init__(self, num_classes: int = 10, dropout: float = 0.5) -> None:\n",
    "        super().__init__()\n",
    "        # Convolution\n",
    "        self.conv1 = nn.Conv2d(3, 64, kernel_size=5, stride=1, padding=1)\n",
    "        self.maxpool1 = nn.MaxPool2d(kernel_size=3, stride=1)\n",
    "\n",
    "        self.conv2 = nn.Conv2d(64, 192, kernel_size=3, stride=1, padding=1)\n",
    "        self.maxpool2 = nn.MaxPool2d(kernel_size=3, stride=1)\n",
    "\n",
    "        self.conv3 = nn.Conv2d(192, 256, kernel_size=3, stride=1)\n",
    "        self.maxpool3 = nn.MaxPool2d(kernel_size=3, stride=2)\n",
    "\n",
    "        self.conv4 = nn.Conv2d(256, 256, kernel_size=3, stride=1)\n",
    "        self.maxpool4 = nn.MaxPool2d(kernel_size=3, stride=2)\n",
    "\n",
    "        self.relu = nn.ReLU(inplace=True)\n",
    "\n",
    "        # Global average pooling\n",
    "        self.global_avg_pool = nn.AdaptiveAvgPool2d((4, 4))\n",
    "\n",
    "        # Classification\n",
    "        self.dropout1 = nn.Dropout(dropout)\n",
    "        self.lin1 = nn.Linear(256 * 4 * 4, 4096)\n",
    "\n",
    "        self.dropout2 = nn.Dropout(dropout)\n",
    "        self.lin2 = nn.Linear(4096, 4096)\n",
    "\n",
    "        self.dropout3 = nn.Dropout(dropout)\n",
    "        self.lin3 = nn.Linear(4096, num_classes)\n",
    "\n",
    "\n",
    "    def forward(self, x: torch.Tensor) -> torch.Tensor:\n",
    "        x = self.maxpool1(self.relu(self.conv1(x)))\n",
    "        x = self.maxpool2(self.relu(self.conv2(x)))\n",
    "        x = self.maxpool3(self.relu(self.conv3(x)))\n",
    "        x = self.maxpool4(self.relu(self.conv4(x)))\n",
    "\n",
    "        x = self.global_avg_pool(x)\n",
    "\n",
    "        x = torch.flatten(x, 1)\n",
    "\n",
    "        x = self.lin1(self.dropout1(x))\n",
    "        x = self.lin2(self.dropout2(x))\n",
    "        x = self.lin3(self.dropout3(x))\n",
    "\n",
    "        return x"
   ]
  },
  {
   "cell_type": "markdown",
   "metadata": {},
   "source": [
    "2. ResNet"
   ]
  },
  {
   "cell_type": "code",
   "execution_count": 35,
   "metadata": {},
   "outputs": [],
   "source": [
    "class ResidualBlock(nn.Module):\n",
    "    def __init__(self, in_channels, out_channels, stride = 1, downsampler = None):\n",
    "        super().__init__()\n",
    "        self.downsampler = downsampler\n",
    "\n",
    "        self.conv1 = nn.Conv2d(in_channels, out_channels, kernel_size=3, stride=stride, padding=1)\n",
    "        self.bn1 = nn.BatchNorm2d(out_channels)\n",
    "        self.conv2 = nn.Conv2d(out_channels, out_channels, kernel_size=3, stride=stride, padding=1)\n",
    "        self.bn2 = nn.BatchNorm2d(out_channels)\n",
    "\n",
    "        self.relu = nn.ReLU(inplace=True)\n",
    "\n",
    "\n",
    "    def forward(self, x):\n",
    "        identity = x\n",
    "        if self.downsampler is not None:\n",
    "            identity = self.downsampler(identity)\n",
    "\n",
    "        out = self.conv1(x)\n",
    "        out = self.bn1(out)\n",
    "        out = self.relu(out)\n",
    "        out = self.conv2(out)\n",
    "        out = self.bn2(out)\n",
    "\n",
    "        out = out + identity\n",
    "        out = self.relu(out)\n",
    "        return out\n",
    "\n",
    "\n",
    "class ResNet_32x32(nn.Module):\n",
    "    def __init__(self, num_classes: int = 10, block: nn.Module = ResidualBlock):\n",
    "        super().__init__()\n",
    "        self.conv = nn.Conv2d(3, 64, (3, 3), stride=1, padding=1)\n",
    "        self.bnorm = nn.BatchNorm2d(64)\n",
    "        self.relu = nn.ReLU(inplace=True)\n",
    "\n",
    "        self.max_pool1 = nn.MaxPool2d(kernel_size=3, stride=2)\n",
    "        self.res_layer1 = self._residual_layer(block, 64, 128, 2)\n",
    "\n",
    "        self.max_pool2 = nn.MaxPool2d(kernel_size=3, stride=2)\n",
    "        self.res_layer2 = self._residual_layer(block, 128, 256, 2)\n",
    "\n",
    "        self.max_pool3 = nn.MaxPool2d(kernel_size=3, stride=1)\n",
    "        self.res_layer3 = self._residual_layer(block, 256, 512, 2)\n",
    "\n",
    "        self.global_avg_pool = nn.AdaptiveAvgPool2d(1)\n",
    "\n",
    "        self.lin = nn.Linear(512, num_classes)\n",
    "\n",
    "\n",
    "    def _residual_layer(self, block, in_channels, out_channels, blocks_num, stride=1):\n",
    "        \"\"\"Creates a residual layer consisting out of residual blocks\"\"\"\n",
    "        downsampler = None\n",
    "        if stride != 1 or in_channels != out_channels:\n",
    "            downsampler = nn.Sequential(\n",
    "                nn.Conv2d(in_channels, out_channels, kernel_size=1, stride=stride, bias=False),\n",
    "                nn.BatchNorm2d(out_channels)\n",
    "            )\n",
    "\n",
    "        layers = []\n",
    "        layers.append(block(in_channels, out_channels, stride, downsampler))\n",
    "        for _ in range(blocks_num - 1):\n",
    "            layers.append(block(out_channels, out_channels, stride))\n",
    "\n",
    "        return nn.Sequential(*layers)\n",
    "\n",
    "\n",
    "    def forward(self, x):\n",
    "        x = self.relu(self.bnorm(self.conv(x)))\n",
    "\n",
    "        x = self.res_layer1(self.max_pool1(x))\n",
    "        x = self.res_layer2(self.max_pool2(x))\n",
    "        x = self.res_layer3(self.max_pool3(x))\n",
    "\n",
    "        x = self.global_avg_pool(x)\n",
    "        x = torch.flatten(x, 1)\n",
    "        x = self.lin(x)\n",
    "        return x"
   ]
  },
  {
   "cell_type": "markdown",
   "metadata": {},
   "source": [
    "### Data prep"
   ]
  },
  {
   "cell_type": "code",
   "execution_count": 2,
   "metadata": {},
   "outputs": [],
   "source": [
    "CINIC_MEAN = [0.47889522, 0.47227842, 0.43047404]\n",
    "CINIC_STD = [0.24205776, 0.23828046, 0.25874835]\n",
    "\n",
    "\n",
    "def get_dataset(\n",
    "        path: str,\n",
    "        batch_size: int,\n",
    "        shuffle: bool,\n",
    "        use_augmentations: bool,\n",
    ") -> DataLoader:\n",
    "    augmentations = ([\n",
    "        # TODO: add augmentations\n",
    "    ] if use_augmentations else [])\n",
    "    transform = transforms.Compose([*augmentations,\n",
    "                                    transforms.ToTensor(),\n",
    "                                    transforms.Normalize(mean=CINIC_MEAN,std=CINIC_STD)])\n",
    "\n",
    "    ds = torchvision.datasets.ImageFolder(path, transform=transform)\n",
    "    loader = DataLoader(ds, batch_size=batch_size, shuffle=shuffle, num_workers=3)\n",
    "    return loader\n",
    "\n",
    "\n",
    "def get_cinic(\n",
    "        data_path: str,\n",
    "        batch_size: int = 256\n",
    ") -> tuple[DataLoader, DataLoader, DataLoader]:\n",
    "    train_path = os.path.join(data_path, \"train\")\n",
    "    valid_path = os.path.join(data_path, \"valid\")\n",
    "    test_path = os.path.join(data_path, \"test\")\n",
    "\n",
    "    cinic_train = get_dataset(train_path, batch_size, True, True)\n",
    "    cinic_validation = get_dataset(valid_path, batch_size, False, False)\n",
    "    cinic_test = get_dataset(test_path, batch_size, False, False)\n",
    "\n",
    "    return cinic_train, cinic_validation, cinic_test"
   ]
  },
  {
   "cell_type": "markdown",
   "metadata": {},
   "source": [
    "### Utils"
   ]
  },
  {
   "cell_type": "code",
   "execution_count": 3,
   "metadata": {},
   "outputs": [],
   "source": [
    "import numpy as np\n",
    "import torch\n",
    "import random\n",
    "\n",
    "\n",
    "def set_seed(seed: int):\n",
    "    random.seed(seed)\n",
    "    np.random.RandomState(seed)\n",
    "    torch.manual_seed(seed)\n",
    "\n",
    "\n",
    "def get_device():\n",
    "    return \"cuda:0\" if torch.cuda.device_count() > 0 else 'cpu'"
   ]
  },
  {
   "cell_type": "markdown",
   "metadata": {},
   "source": [
    "### Train"
   ]
  },
  {
   "cell_type": "code",
   "execution_count": 4,
   "metadata": {},
   "outputs": [],
   "source": [
    "MODELS = {\n",
    "    \"AlexNet\": AlexNet_32x32,\n",
    "    \"ResNet\": ResNet_32x32\n",
    "}\n",
    "\n",
    "OPTIMIZERS = {\n",
    "    \"SGD\": torch.optim.SGD,\n",
    "    \"AdamW\": torch.optim.AdamW\n",
    "}\n",
    "\n",
    "\n",
    "def train(config: dict, data_path: str):\n",
    "    # Set seed for reproducibility\n",
    "    seed = int(config[\"seed\"]) if \"seed\" in config else 0\n",
    "    set_seed(seed)\n",
    "\n",
    "    device = get_device()\n",
    "    print(\"Device: \", device)\n",
    "\n",
    "    checkpoint = config[\"checkpoint_folder\"]\n",
    "    os.makedirs(checkpoint, exist_ok=True)\n",
    "\n",
    "    with open(os.path.join(checkpoint, \"config.json\"), \"w\") as f:\n",
    "        f.write(json.dumps(config))\n",
    "\n",
    "    batch_size = int(config[\"batch_size\"]) if \"batch_size\" in config else 256\n",
    "    cinic_train, cinic_valid, cinic_test = get_cinic(data_path, batch_size=batch_size)\n",
    "    model: nn.Module = MODELS[config[\"model\"]](**config[\"model_params\"]).to(device)\n",
    "    optimizer: torch.optim.Optimizer = OPTIMIZERS[config[\"optimizer\"]](params=model.parameters(),\n",
    "                                                **config[\"optimizer_params\"])\n",
    "    criterion = nn.CrossEntropyLoss()\n",
    "\n",
    "    epochs = int(config[\"epochs\"])\n",
    "    metrics = {\"loss\": [float(\"+inf\")], \"accuracy\": [0.0], \"val_loss\": [float(\"+inf\")], \"val_accuracy\": [0.0]}\n",
    "    best_model = model\n",
    "    warmup_epochs = int(config[\"warmup_epochs\"])\n",
    "\n",
    "    best_loss = float('inf')\n",
    "    best_loss_epoch = -1\n",
    "\n",
    "    classes = cinic_test.dataset.classes\n",
    "    classes = sorted(classes, key=lambda x: cinic_test.dataset.class_to_idx[x])\n",
    "\n",
    "    # Training\n",
    "    for epoch in range(epochs):\n",
    "        print(\"Epoch\", epoch)\n",
    "\n",
    "        print(\"Processing training\")\n",
    "        model.train()\n",
    "        accuracy, loss = train_epoch(model, cinic_train, optimizer, criterion)\n",
    "        metrics[\"accuracy\"].append(accuracy)\n",
    "        metrics[\"loss\"].append(loss)\n",
    "\n",
    "        print(\"Processing validation\")\n",
    "        model.eval()\n",
    "        val_accuracy, val_loss = valid_epoch(model, cinic_valid, criterion)\n",
    "        metrics[\"val_accuracy\"].append(val_accuracy)\n",
    "        metrics[\"val_loss\"].append(val_loss)\n",
    "\n",
    "        print(f\"Loss: {metrics['loss'][-1]:.4f}\", end=' ')\n",
    "        print(f\"Accuracy: {metrics['accuracy'][-1]:.4f}\", end=' ')\n",
    "        print(f\"Validation Loss: {metrics['val_loss'][-1]:.4f}\", end=' ')\n",
    "        print(f\"Validation Accuracy: {metrics['val_accuracy'][-1]:.4f}\")\n",
    "\n",
    "        # Saving checkpoint\n",
    "        if epoch >= warmup_epochs and val_loss < metrics[\"val_loss\"][-2]:\n",
    "            best_model = model\n",
    "            torch.save({\n",
    "                    \"model_state\": model.state_dict(),\n",
    "                    \"optimizer\": optimizer.state_dict(),\n",
    "                    \"loss\": criterion.state_dict(),\n",
    "                    \"epoch\": epoch\n",
    "            }, os.path.join(checkpoint, \"state.pth\"))\n",
    "\n",
    "        # Early stopping\n",
    "        if \"early_stopping\" in config:\n",
    "            if val_loss < best_loss:\n",
    "                best_loss_epoch = epoch\n",
    "                best_loss = val_loss\n",
    "            elif epoch - best_loss_epoch >= config[\"early_stopping\"][\"patience\"]:\n",
    "                print(\"Early stopping!\")\n",
    "                break\n",
    "\n",
    "    # Calculate test metrics and confusion matrix\n",
    "    test_accuracy, test_loss, test_targets, test_predictions = test_epoch(best_model,\n",
    "                                                                          cinic_test, criterion)\n",
    "    with open(os.path.join(checkpoint, \"test_metrics.txt\"), \"w\") as f:\n",
    "        f.write(f\"Test Loss: {test_loss:.4f} Test Accuracy: {test_accuracy:.4f}\")\n",
    "\n",
    "    # Confusion matrix\n",
    "    disp = ConfusionMatrixDisplay.from_predictions(test_targets, test_predictions,\n",
    "                                                   display_labels=classes)\n",
    "    disp.figure_.savefig(os.path.join(checkpoint, \"confusion_matrix_test.jpg\"))\n",
    "\n",
    "    # Confusion matrix without diagonal\n",
    "    wrong_predictions_idx = test_targets != test_predictions\n",
    "    test_targets = test_targets[wrong_predictions_idx]\n",
    "    test_predictions = test_predictions[wrong_predictions_idx]\n",
    "    disp = ConfusionMatrixDisplay.from_predictions(test_targets, test_predictions,\n",
    "                                                   display_labels=classes)\n",
    "    disp.figure_.savefig(os.path.join(checkpoint, \"confusion_matrix_test_no_diag.jpg\"))\n",
    "\n",
    "    df = pd.DataFrame(metrics)\n",
    "    df.to_csv(os.path.join(checkpoint, \"metrics.csv\"))\n",
    "\n",
    "\n",
    "def train_epoch(\n",
    "    model: nn.Module,\n",
    "    train_ds: DataLoader,\n",
    "    optimizer: torch.optim.Optimizer,\n",
    "    criterion: nn.CrossEntropyLoss\n",
    "):\n",
    "    losses = []\n",
    "    accuracies = []\n",
    "    batch_sizes = []\n",
    "    for input, target in tqdm(train_ds):\n",
    "        optimizer.zero_grad()\n",
    "\n",
    "        input, target = input.cuda(), target.cuda()\n",
    "        ohe_target = F.one_hot(target, 10).type(torch.float32)\n",
    "        output = model(input)\n",
    "        loss = criterion(output, ohe_target)\n",
    "\n",
    "        loss.backward()\n",
    "        optimizer.step()\n",
    "\n",
    "        pred = torch.argmax(output, dim=-1)\n",
    "        accurate_pred = (pred == target).type(torch.float32)\n",
    "        accuracies.append(torch.mean(accurate_pred).item())\n",
    "\n",
    "        losses.append(loss.item())\n",
    "        batch_sizes.append(len(input))\n",
    "\n",
    "    accuracy = np.average(accuracies, weights=batch_sizes)\n",
    "    loss = np.average(losses, weights=batch_sizes)\n",
    "    return accuracy, loss\n",
    "\n",
    "\n",
    "def valid_epoch(\n",
    "    model: nn.Module,\n",
    "    valid_ds: DataLoader,\n",
    "    criterion: nn.CrossEntropyLoss\n",
    "):\n",
    "    val_losses = []\n",
    "    val_accuracies = []\n",
    "    batch_sizes = []\n",
    "    with torch.no_grad():\n",
    "        for input, target in tqdm(valid_ds):\n",
    "            input, target = input.cuda(), target.cuda()\n",
    "            ohe_target = F.one_hot(target, 10).type(torch.float32)\n",
    "            output = model(input)\n",
    "            val_loss = criterion(output, ohe_target)\n",
    "\n",
    "            # Calculate accuracy\n",
    "            pred = torch.argmax(output, dim=-1)\n",
    "            accurate_pred = (pred == target).type(torch.float32)\n",
    "            val_accuracies.append(torch.mean(accurate_pred).item())\n",
    "\n",
    "            val_losses.append(val_loss.item())\n",
    "            # Store information regarding\n",
    "            batch_sizes.append(len(input))\n",
    "\n",
    "    val_accuracy = np.average(val_accuracies, weights=batch_sizes)\n",
    "    val_loss = np.average(val_losses, weights=batch_sizes)\n",
    "    return val_accuracy, val_loss\n",
    "\n",
    "\n",
    "def test_epoch(\n",
    "    model: nn.Module,\n",
    "    valid_ds: DataLoader,\n",
    "    criterion: nn.CrossEntropyLoss\n",
    "):\n",
    "    val_losses = []\n",
    "    val_accuracies = []\n",
    "    batch_sizes = []\n",
    "    predictions = []\n",
    "    targets = []\n",
    "\n",
    "    with torch.no_grad():\n",
    "        for input, target in tqdm(valid_ds):\n",
    "            input, target = input.cuda(), target.cuda()\n",
    "            ohe_target = F.one_hot(target, 10).type(torch.float32)\n",
    "            output = model(input)\n",
    "            val_loss = criterion(output, ohe_target)\n",
    "\n",
    "            # Calculate accuracy\n",
    "            pred = torch.argmax(output, dim=-1)\n",
    "            accurate_pred = (pred == target).type(torch.float32)\n",
    "            val_accuracies.append(torch.mean(accurate_pred).item())\n",
    "\n",
    "            val_losses.append(val_loss.item())\n",
    "            # Store information regarding\n",
    "            batch_sizes.append(len(input))\n",
    "\n",
    "            predictions.append(pred)\n",
    "            targets.append(target)\n",
    "\n",
    "    val_accuracy = np.average(val_accuracies, weights=batch_sizes)\n",
    "    val_loss = np.average(val_losses, weights=batch_sizes)\n",
    "    predictions = torch.concatenate(predictions).cpu().numpy()\n",
    "    targets = torch.concatenate(targets).cpu().numpy()\n",
    "    return val_accuracy, val_loss, targets, predictions"
   ]
  },
  {
   "cell_type": "code",
   "execution_count": 5,
   "metadata": {},
   "outputs": [],
   "source": [
    "cinic_train, cinic_val, cinic_test = get_cinic(DATA_PATH, 256)\n",
    "checkpoint_path = os.path.join(CHECKPOINTS_PATH, \"ResNet_lr_0_001\")\n",
    "state = torch.load(os.path.join(checkpoint_path, \"state.pth\"), weights_only=False)"
   ]
  },
  {
   "cell_type": "code",
   "execution_count": 6,
   "metadata": {},
   "outputs": [
    {
     "data": {
      "text/plain": [
       "dict_keys(['model_state', 'optimizer', 'loss', 'epoch'])"
      ]
     },
     "execution_count": 6,
     "metadata": {},
     "output_type": "execute_result"
    }
   ],
   "source": [
    "state.keys()"
   ]
  },
  {
   "cell_type": "code",
   "execution_count": 7,
   "metadata": {},
   "outputs": [
    {
     "data": {
      "text/plain": [
       "<All keys matched successfully>"
      ]
     },
     "execution_count": 7,
     "metadata": {},
     "output_type": "execute_result"
    }
   ],
   "source": [
    "model = ResNet_32x32()\n",
    "model.load_state_dict(state[\"model_state\"])"
   ]
  },
  {
   "cell_type": "code",
   "execution_count": 31,
   "metadata": {},
   "outputs": [],
   "source": [
    "def evaluate(model: nn.Module, loader: DataLoader,):\n",
    "    model = model.cuda()\n",
    "    accuracies = []\n",
    "    batch_sizes = []\n",
    "    with torch.no_grad():\n",
    "        for input, target in tqdm(loader):\n",
    "            input, target = input.cuda(), target.cuda()\n",
    "            output = model(input)\n",
    "            predictions= torch.argmax(output, axis=-1)\n",
    "            accuracies.append((torch.sum(predictions == target) / len(target)).reshape((-1)))\n",
    "            batch_sizes.append(len(target))\n",
    "\n",
    "    return accuracies, torch.mean(torch.concatenate(accuracies))"
   ]
  },
  {
   "cell_type": "code",
   "execution_count": 14,
   "metadata": {},
   "outputs": [
    {
     "name": "stderr",
     "output_type": "stream",
     "text": [
      "  1%|          | 4/352 [00:08<09:44,  1.68s/it]"
     ]
    },
    {
     "name": "stdout",
     "output_type": "stream",
     "text": [
      "Accuracy:  0.8359375\n",
      "Accuracy:  0.828125\n",
      "Accuracy:  0.87109375\n",
      "Accuracy:  0.84375\n",
      "Accuracy:  0.8359375\n",
      "Accuracy:  0.84375\n"
     ]
    },
    {
     "name": "stderr",
     "output_type": "stream",
     "text": [
      "  3%|▎         | 11/352 [00:09<02:20,  2.43it/s]"
     ]
    },
    {
     "name": "stdout",
     "output_type": "stream",
     "text": [
      "Accuracy:  0.78515625\n",
      "Accuracy:  0.859375\n",
      "Accuracy:  0.9296875\n",
      "Accuracy:  0.89453125\n",
      "Accuracy:  0.90625\n",
      "Accuracy:  0.8125\n",
      "Accuracy:  0.7578125\n"
     ]
    },
    {
     "name": "stderr",
     "output_type": "stream",
     "text": [
      "  5%|▌         | 19/352 [00:09<00:56,  5.89it/s]"
     ]
    },
    {
     "name": "stdout",
     "output_type": "stream",
     "text": [
      "Accuracy:  0.6875\n",
      "Accuracy:  0.7109375\n",
      "Accuracy:  0.734375\n",
      "Accuracy:  0.83984375\n",
      "Accuracy:  0.7890625\n",
      "Accuracy:  0.71875\n",
      "Accuracy:  0.62109375\n"
     ]
    },
    {
     "name": "stderr",
     "output_type": "stream",
     "text": [
      "  7%|▋         | 26/352 [00:09<00:31, 10.20it/s]"
     ]
    },
    {
     "name": "stdout",
     "output_type": "stream",
     "text": [
      "Accuracy:  0.86328125\n",
      "Accuracy:  0.86328125\n",
      "Accuracy:  0.91015625\n",
      "Accuracy:  0.93359375\n",
      "Accuracy:  0.859375\n",
      "Accuracy:  0.83984375\n"
     ]
    },
    {
     "name": "stderr",
     "output_type": "stream",
     "text": [
      "  8%|▊         | 29/352 [00:09<00:27, 11.92it/s]"
     ]
    },
    {
     "name": "stdout",
     "output_type": "stream",
     "text": [
      "Accuracy:  0.921875\n",
      "Accuracy:  0.8125\n",
      "Accuracy:  0.80859375\n",
      "Accuracy:  0.75\n",
      "Accuracy:  0.71875\n",
      "Accuracy:  0.7890625\n"
     ]
    },
    {
     "name": "stderr",
     "output_type": "stream",
     "text": [
      " 10%|▉         | 35/352 [00:09<00:19, 16.02it/s]"
     ]
    },
    {
     "name": "stdout",
     "output_type": "stream",
     "text": [
      "Accuracy:  0.8359375\n",
      "Accuracy:  0.87109375\n",
      "Accuracy:  0.96484375\n",
      "Accuracy:  0.94921875\n",
      "Accuracy:  0.921875\n"
     ]
    },
    {
     "name": "stderr",
     "output_type": "stream",
     "text": [
      " 12%|█▏        | 42/352 [00:10<00:15, 19.48it/s]"
     ]
    },
    {
     "name": "stdout",
     "output_type": "stream",
     "text": [
      "Accuracy:  0.9296875\n",
      "Accuracy:  0.9296875\n",
      "Accuracy:  0.9453125\n",
      "Accuracy:  0.9609375\n",
      "Accuracy:  0.921875\n",
      "Accuracy:  0.9140625\n"
     ]
    },
    {
     "name": "stderr",
     "output_type": "stream",
     "text": [
      " 14%|█▎        | 48/352 [00:10<00:13, 22.00it/s]"
     ]
    },
    {
     "name": "stdout",
     "output_type": "stream",
     "text": [
      "Accuracy:  0.51171875\n",
      "Accuracy:  0.82421875\n",
      "Accuracy:  0.76171875\n",
      "Accuracy:  0.75390625\n",
      "Accuracy:  0.8671875\n",
      "Accuracy:  0.8984375\n"
     ]
    },
    {
     "name": "stderr",
     "output_type": "stream",
     "text": [
      " 15%|█▌        | 54/352 [00:10<00:12, 23.28it/s]"
     ]
    },
    {
     "name": "stdout",
     "output_type": "stream",
     "text": [
      "Accuracy:  0.9296875\n",
      "Accuracy:  0.87109375\n",
      "Accuracy:  0.8359375\n",
      "Accuracy:  0.6640625\n",
      "Accuracy:  0.91796875\n"
     ]
    },
    {
     "name": "stderr",
     "output_type": "stream",
     "text": [
      " 16%|█▌        | 57/352 [00:10<00:12, 23.81it/s]"
     ]
    },
    {
     "name": "stdout",
     "output_type": "stream",
     "text": [
      "Accuracy:  0.75390625\n",
      "Accuracy:  0.5078125\n",
      "Accuracy:  0.69140625\n",
      "Accuracy:  0.76953125\n",
      "Accuracy:  0.765625\n"
     ]
    },
    {
     "name": "stderr",
     "output_type": "stream",
     "text": [
      " 18%|█▊        | 63/352 [00:11<00:11, 24.18it/s]"
     ]
    },
    {
     "name": "stdout",
     "output_type": "stream",
     "text": [
      "Accuracy:  0.6796875\n",
      "Accuracy:  0.82421875\n",
      "Accuracy:  0.71484375\n",
      "Accuracy:  0.921875\n",
      "Accuracy:  0.90234375\n",
      "Accuracy:  0.875\n"
     ]
    },
    {
     "name": "stderr",
     "output_type": "stream",
     "text": [
      " 20%|█▉        | 69/352 [00:11<00:13, 21.76it/s]"
     ]
    },
    {
     "name": "stdout",
     "output_type": "stream",
     "text": [
      "Accuracy:  0.91015625\n",
      "Accuracy:  0.87109375\n",
      "Accuracy:  0.6796875\n",
      "Accuracy:  0.80078125\n",
      "Accuracy:  0.83203125\n"
     ]
    },
    {
     "name": "stderr",
     "output_type": "stream",
     "text": [
      " 21%|██▏       | 75/352 [00:11<00:12, 22.67it/s]"
     ]
    },
    {
     "name": "stdout",
     "output_type": "stream",
     "text": [
      "Accuracy:  0.75\n",
      "Accuracy:  0.74609375\n",
      "Accuracy:  0.74609375\n",
      "Accuracy:  0.74609375\n",
      "Accuracy:  0.7265625\n"
     ]
    },
    {
     "name": "stderr",
     "output_type": "stream",
     "text": [
      " 22%|██▏       | 78/352 [00:11<00:11, 23.74it/s]"
     ]
    },
    {
     "name": "stdout",
     "output_type": "stream",
     "text": [
      "Accuracy:  0.75390625\n",
      "Accuracy:  0.7578125\n",
      "Accuracy:  0.73828125\n",
      "Accuracy:  0.609375\n",
      "Accuracy:  0.73828125\n"
     ]
    },
    {
     "name": "stderr",
     "output_type": "stream",
     "text": [
      " 24%|██▍       | 84/352 [00:12<00:11, 23.32it/s]"
     ]
    },
    {
     "name": "stdout",
     "output_type": "stream",
     "text": [
      "Accuracy:  0.75\n",
      "Accuracy:  0.78515625\n",
      "Accuracy:  0.73828125\n",
      "Accuracy:  0.8046875\n",
      "Accuracy:  0.8203125\n",
      "Accuracy:  0.73046875\n"
     ]
    },
    {
     "name": "stderr",
     "output_type": "stream",
     "text": [
      " 26%|██▌       | 90/352 [00:12<00:11, 22.20it/s]"
     ]
    },
    {
     "name": "stdout",
     "output_type": "stream",
     "text": [
      "Accuracy:  0.78125\n",
      "Accuracy:  0.7734375\n",
      "Accuracy:  0.65234375\n",
      "Accuracy:  0.49609375\n",
      "Accuracy:  0.39453125\n"
     ]
    },
    {
     "name": "stderr",
     "output_type": "stream",
     "text": [
      " 27%|██▋       | 96/352 [00:12<00:11, 23.01it/s]"
     ]
    },
    {
     "name": "stdout",
     "output_type": "stream",
     "text": [
      "Accuracy:  0.609375\n",
      "Accuracy:  0.671875\n",
      "Accuracy:  0.65234375\n",
      "Accuracy:  0.703125\n",
      "Accuracy:  0.6484375\n"
     ]
    },
    {
     "name": "stderr",
     "output_type": "stream",
     "text": [
      " 28%|██▊       | 99/352 [00:12<00:11, 22.79it/s]"
     ]
    },
    {
     "name": "stdout",
     "output_type": "stream",
     "text": [
      "Accuracy:  0.82421875\n",
      "Accuracy:  0.69140625\n",
      "Accuracy:  0.7578125\n",
      "Accuracy:  0.70703125\n",
      "Accuracy:  0.73046875\n"
     ]
    },
    {
     "name": "stderr",
     "output_type": "stream",
     "text": [
      " 30%|██▉       | 105/352 [00:12<00:10, 23.92it/s]"
     ]
    },
    {
     "name": "stdout",
     "output_type": "stream",
     "text": [
      "Accuracy:  0.796875\n",
      "Accuracy:  0.71484375\n",
      "Accuracy:  0.77734375\n",
      "Accuracy:  0.65625\n",
      "Accuracy:  0.68359375\n",
      "Accuracy:  0.67578125\n"
     ]
    },
    {
     "name": "stderr",
     "output_type": "stream",
     "text": [
      " 32%|███▏      | 111/352 [00:13<00:09, 24.92it/s]"
     ]
    },
    {
     "name": "stdout",
     "output_type": "stream",
     "text": [
      "Accuracy:  0.6875\n",
      "Accuracy:  0.69921875\n",
      "Accuracy:  0.71875\n",
      "Accuracy:  0.73828125\n",
      "Accuracy:  0.69921875\n",
      "Accuracy:  0.7265625\n"
     ]
    },
    {
     "name": "stderr",
     "output_type": "stream",
     "text": [
      " 33%|███▎      | 117/352 [00:13<00:09, 24.84it/s]"
     ]
    },
    {
     "name": "stdout",
     "output_type": "stream",
     "text": [
      "Accuracy:  0.5703125\n",
      "Accuracy:  0.6171875\n",
      "Accuracy:  0.6171875\n",
      "Accuracy:  0.578125\n",
      "Accuracy:  0.6015625\n",
      "Accuracy:  0.61328125\n"
     ]
    },
    {
     "name": "stderr",
     "output_type": "stream",
     "text": [
      " 35%|███▍      | 123/352 [00:13<00:08, 26.12it/s]"
     ]
    },
    {
     "name": "stdout",
     "output_type": "stream",
     "text": [
      "Accuracy:  0.6796875\n",
      "Accuracy:  0.72265625\n",
      "Accuracy:  0.58984375\n",
      "Accuracy:  0.5625\n",
      "Accuracy:  0.6015625\n",
      "Accuracy:  0.49609375\n"
     ]
    },
    {
     "name": "stderr",
     "output_type": "stream",
     "text": [
      " 37%|███▋      | 129/352 [00:13<00:09, 24.52it/s]"
     ]
    },
    {
     "name": "stdout",
     "output_type": "stream",
     "text": [
      "Accuracy:  0.67578125\n",
      "Accuracy:  0.53125\n",
      "Accuracy:  0.60546875\n",
      "Accuracy:  0.58984375\n",
      "Accuracy:  0.55859375\n",
      "Accuracy:  0.61328125\n"
     ]
    },
    {
     "name": "stderr",
     "output_type": "stream",
     "text": [
      " 38%|███▊      | 135/352 [00:14<00:08, 25.53it/s]"
     ]
    },
    {
     "name": "stdout",
     "output_type": "stream",
     "text": [
      "Accuracy:  0.62109375\n",
      "Accuracy:  0.5859375\n",
      "Accuracy:  0.5546875\n",
      "Accuracy:  0.56640625\n",
      "Accuracy:  0.671875\n",
      "Accuracy:  0.578125\n"
     ]
    },
    {
     "name": "stderr",
     "output_type": "stream",
     "text": [
      " 40%|████      | 141/352 [00:14<00:08, 25.30it/s]"
     ]
    },
    {
     "name": "stdout",
     "output_type": "stream",
     "text": [
      "Accuracy:  0.6484375\n",
      "Accuracy:  0.60546875\n",
      "Accuracy:  0.58203125\n",
      "Accuracy:  0.546875\n",
      "Accuracy:  0.7578125\n",
      "Accuracy:  0.78515625\n"
     ]
    },
    {
     "name": "stderr",
     "output_type": "stream",
     "text": [
      " 43%|████▎     | 150/352 [00:14<00:07, 27.35it/s]"
     ]
    },
    {
     "name": "stdout",
     "output_type": "stream",
     "text": [
      "Accuracy:  0.82421875\n",
      "Accuracy:  0.7890625\n",
      "Accuracy:  0.75390625\n",
      "Accuracy:  0.76953125\n",
      "Accuracy:  0.78515625\n",
      "Accuracy:  0.58984375\n",
      "Accuracy:  0.47265625\n"
     ]
    },
    {
     "name": "stderr",
     "output_type": "stream",
     "text": [
      " 43%|████▎     | 153/352 [00:14<00:08, 24.85it/s]"
     ]
    },
    {
     "name": "stdout",
     "output_type": "stream",
     "text": [
      "Accuracy:  0.4453125\n",
      "Accuracy:  0.5859375\n",
      "Accuracy:  0.640625\n",
      "Accuracy:  0.40625\n",
      "Accuracy:  0.41015625\n"
     ]
    },
    {
     "name": "stderr",
     "output_type": "stream",
     "text": [
      " 45%|████▌     | 159/352 [00:15<00:07, 24.70it/s]"
     ]
    },
    {
     "name": "stdout",
     "output_type": "stream",
     "text": [
      "Accuracy:  0.23828125\n",
      "Accuracy:  0.4765625\n",
      "Accuracy:  0.64453125\n",
      "Accuracy:  0.71875\n",
      "Accuracy:  0.65234375\n",
      "Accuracy:  0.6015625\n"
     ]
    },
    {
     "name": "stderr",
     "output_type": "stream",
     "text": [
      " 47%|████▋     | 165/352 [00:15<00:07, 25.22it/s]"
     ]
    },
    {
     "name": "stdout",
     "output_type": "stream",
     "text": [
      "Accuracy:  0.70703125\n",
      "Accuracy:  0.8203125\n",
      "Accuracy:  0.78125\n",
      "Accuracy:  0.69921875\n",
      "Accuracy:  0.67578125\n",
      "Accuracy:  0.68359375\n"
     ]
    },
    {
     "name": "stderr",
     "output_type": "stream",
     "text": [
      " 49%|████▊     | 171/352 [00:15<00:07, 23.50it/s]"
     ]
    },
    {
     "name": "stdout",
     "output_type": "stream",
     "text": [
      "Accuracy:  0.7578125\n",
      "Accuracy:  0.7734375\n",
      "Accuracy:  0.765625\n",
      "Accuracy:  0.73828125\n",
      "Accuracy:  0.5703125\n",
      "Accuracy:  0.48046875\n"
     ]
    },
    {
     "name": "stderr",
     "output_type": "stream",
     "text": [
      " 50%|█████     | 177/352 [00:15<00:07, 24.32it/s]"
     ]
    },
    {
     "name": "stdout",
     "output_type": "stream",
     "text": [
      "Accuracy:  0.4921875\n",
      "Accuracy:  0.359375\n",
      "Accuracy:  0.515625\n",
      "Accuracy:  0.796875\n",
      "Accuracy:  0.8046875\n",
      "Accuracy:  0.78125\n"
     ]
    },
    {
     "name": "stderr",
     "output_type": "stream",
     "text": [
      " 52%|█████▏    | 183/352 [00:16<00:06, 26.05it/s]"
     ]
    },
    {
     "name": "stdout",
     "output_type": "stream",
     "text": [
      "Accuracy:  0.77734375\n",
      "Accuracy:  0.78515625\n",
      "Accuracy:  0.77734375\n",
      "Accuracy:  0.796875\n",
      "Accuracy:  0.6640625\n",
      "Accuracy:  0.59765625\n"
     ]
    },
    {
     "name": "stderr",
     "output_type": "stream",
     "text": [
      " 54%|█████▎    | 189/352 [00:16<00:06, 25.85it/s]"
     ]
    },
    {
     "name": "stdout",
     "output_type": "stream",
     "text": [
      "Accuracy:  0.5546875\n",
      "Accuracy:  0.56640625\n",
      "Accuracy:  0.65625\n",
      "Accuracy:  0.77734375\n",
      "Accuracy:  0.5\n",
      "Accuracy:  0.5859375\n"
     ]
    },
    {
     "name": "stderr",
     "output_type": "stream",
     "text": [
      " 55%|█████▌    | 195/352 [00:16<00:06, 24.76it/s]"
     ]
    },
    {
     "name": "stdout",
     "output_type": "stream",
     "text": [
      "Accuracy:  0.5390625\n",
      "Accuracy:  0.52734375\n",
      "Accuracy:  0.68359375\n",
      "Accuracy:  0.68359375\n",
      "Accuracy:  0.53125\n"
     ]
    },
    {
     "name": "stderr",
     "output_type": "stream",
     "text": [
      " 57%|█████▋    | 201/352 [00:16<00:05, 26.33it/s]"
     ]
    },
    {
     "name": "stdout",
     "output_type": "stream",
     "text": [
      "Accuracy:  0.515625\n",
      "Accuracy:  0.56640625\n",
      "Accuracy:  0.6484375\n",
      "Accuracy:  0.625\n",
      "Accuracy:  0.671875\n",
      "Accuracy:  0.609375\n"
     ]
    },
    {
     "name": "stderr",
     "output_type": "stream",
     "text": [
      " 59%|█████▉    | 207/352 [00:16<00:05, 26.34it/s]"
     ]
    },
    {
     "name": "stdout",
     "output_type": "stream",
     "text": [
      "Accuracy:  0.63671875\n",
      "Accuracy:  0.625\n",
      "Accuracy:  0.25\n",
      "Accuracy:  0.203125\n",
      "Accuracy:  0.30078125\n",
      "Accuracy:  0.32421875\n"
     ]
    },
    {
     "name": "stderr",
     "output_type": "stream",
     "text": [
      " 61%|██████    | 214/352 [00:17<00:05, 26.94it/s]"
     ]
    },
    {
     "name": "stdout",
     "output_type": "stream",
     "text": [
      "Accuracy:  0.2578125\n",
      "Accuracy:  0.2734375\n",
      "Accuracy:  0.29296875\n",
      "Accuracy:  0.921875\n",
      "Accuracy:  0.93359375\n",
      "Accuracy:  0.90625\n"
     ]
    },
    {
     "name": "stderr",
     "output_type": "stream",
     "text": [
      " 62%|██████▏   | 217/352 [00:17<00:05, 26.23it/s]"
     ]
    },
    {
     "name": "stdout",
     "output_type": "stream",
     "text": [
      "Accuracy:  0.92578125\n",
      "Accuracy:  0.8984375\n",
      "Accuracy:  0.9375\n",
      "Accuracy:  0.9140625\n",
      "Accuracy:  0.88671875\n"
     ]
    },
    {
     "name": "stderr",
     "output_type": "stream",
     "text": [
      " 63%|██████▎   | 223/352 [00:17<00:04, 26.12it/s]"
     ]
    },
    {
     "name": "stdout",
     "output_type": "stream",
     "text": [
      "Accuracy:  0.75390625\n",
      "Accuracy:  0.81640625\n",
      "Accuracy:  0.89453125\n",
      "Accuracy:  0.89453125\n",
      "Accuracy:  0.86328125\n",
      "Accuracy:  0.91015625\n"
     ]
    },
    {
     "name": "stderr",
     "output_type": "stream",
     "text": [
      " 65%|██████▌   | 229/352 [00:17<00:04, 25.57it/s]"
     ]
    },
    {
     "name": "stdout",
     "output_type": "stream",
     "text": [
      "Accuracy:  0.890625\n",
      "Accuracy:  0.81640625\n",
      "Accuracy:  0.796875\n",
      "Accuracy:  0.8828125\n",
      "Accuracy:  0.87109375\n",
      "Accuracy:  0.78515625\n"
     ]
    },
    {
     "name": "stderr",
     "output_type": "stream",
     "text": [
      " 67%|██████▋   | 235/352 [00:18<00:04, 25.83it/s]"
     ]
    },
    {
     "name": "stdout",
     "output_type": "stream",
     "text": [
      "Accuracy:  0.890625\n",
      "Accuracy:  0.9296875\n",
      "Accuracy:  0.91015625\n",
      "Accuracy:  0.859375\n",
      "Accuracy:  0.9296875\n",
      "Accuracy:  0.90625\n"
     ]
    },
    {
     "name": "stderr",
     "output_type": "stream",
     "text": [
      " 68%|██████▊   | 241/352 [00:18<00:04, 24.28it/s]"
     ]
    },
    {
     "name": "stdout",
     "output_type": "stream",
     "text": [
      "Accuracy:  0.90234375\n",
      "Accuracy:  0.87890625\n",
      "Accuracy:  0.97265625\n",
      "Accuracy:  0.8125\n",
      "Accuracy:  0.8515625\n"
     ]
    },
    {
     "name": "stderr",
     "output_type": "stream",
     "text": [
      " 70%|███████   | 247/352 [00:18<00:04, 25.47it/s]"
     ]
    },
    {
     "name": "stdout",
     "output_type": "stream",
     "text": [
      "Accuracy:  0.875\n",
      "Accuracy:  0.859375\n",
      "Accuracy:  0.890625\n",
      "Accuracy:  0.609375\n",
      "Accuracy:  0.8203125\n",
      "Accuracy:  0.85546875\n",
      "Accuracy:  0.81640625\n"
     ]
    },
    {
     "name": "stderr",
     "output_type": "stream",
     "text": [
      " 72%|███████▏  | 253/352 [00:18<00:03, 25.81it/s]"
     ]
    },
    {
     "name": "stdout",
     "output_type": "stream",
     "text": [
      "Accuracy:  0.83203125\n",
      "Accuracy:  0.79296875\n",
      "Accuracy:  0.8359375\n",
      "Accuracy:  0.8046875\n",
      "Accuracy:  0.80859375\n",
      "Accuracy:  0.7109375\n"
     ]
    },
    {
     "name": "stderr",
     "output_type": "stream",
     "text": [
      " 74%|███████▎  | 259/352 [00:18<00:03, 25.93it/s]"
     ]
    },
    {
     "name": "stdout",
     "output_type": "stream",
     "text": [
      "Accuracy:  0.76171875\n",
      "Accuracy:  0.8046875\n",
      "Accuracy:  0.72265625\n",
      "Accuracy:  0.78515625\n",
      "Accuracy:  0.7421875\n",
      "Accuracy:  0.8046875\n"
     ]
    },
    {
     "name": "stderr",
     "output_type": "stream",
     "text": [
      " 75%|███████▌  | 265/352 [00:19<00:03, 23.98it/s]"
     ]
    },
    {
     "name": "stdout",
     "output_type": "stream",
     "text": [
      "Accuracy:  0.8359375\n",
      "Accuracy:  0.78515625\n",
      "Accuracy:  0.734375\n",
      "Accuracy:  0.74609375\n",
      "Accuracy:  0.73046875\n"
     ]
    },
    {
     "name": "stderr",
     "output_type": "stream",
     "text": [
      " 77%|███████▋  | 271/352 [00:19<00:03, 24.18it/s]"
     ]
    },
    {
     "name": "stdout",
     "output_type": "stream",
     "text": [
      "Accuracy:  0.6328125\n",
      "Accuracy:  0.79296875\n",
      "Accuracy:  0.75\n",
      "Accuracy:  0.6171875\n",
      "Accuracy:  0.77734375\n",
      "Accuracy:  0.796875\n"
     ]
    },
    {
     "name": "stderr",
     "output_type": "stream",
     "text": [
      " 79%|███████▊  | 277/352 [00:19<00:02, 25.03it/s]"
     ]
    },
    {
     "name": "stdout",
     "output_type": "stream",
     "text": [
      "Accuracy:  0.8125\n",
      "Accuracy:  0.80078125\n",
      "Accuracy:  0.703125\n",
      "Accuracy:  0.77734375\n",
      "Accuracy:  0.71484375\n",
      "Accuracy:  0.7578125\n"
     ]
    },
    {
     "name": "stderr",
     "output_type": "stream",
     "text": [
      " 80%|████████  | 283/352 [00:19<00:02, 24.47it/s]"
     ]
    },
    {
     "name": "stdout",
     "output_type": "stream",
     "text": [
      "Accuracy:  0.8125\n",
      "Accuracy:  0.87109375\n",
      "Accuracy:  0.78515625\n",
      "Accuracy:  0.88671875\n",
      "Accuracy:  0.87890625\n",
      "Accuracy:  0.90234375\n"
     ]
    },
    {
     "name": "stderr",
     "output_type": "stream",
     "text": [
      " 82%|████████▏ | 289/352 [00:20<00:02, 23.82it/s]"
     ]
    },
    {
     "name": "stdout",
     "output_type": "stream",
     "text": [
      "Accuracy:  0.9296875\n",
      "Accuracy:  0.890625\n",
      "Accuracy:  0.8828125\n",
      "Accuracy:  0.91015625\n",
      "Accuracy:  0.88671875\n"
     ]
    },
    {
     "name": "stderr",
     "output_type": "stream",
     "text": [
      " 83%|████████▎ | 292/352 [00:20<00:02, 23.14it/s]"
     ]
    },
    {
     "name": "stdout",
     "output_type": "stream",
     "text": [
      "Accuracy:  0.6484375\n",
      "Accuracy:  0.75390625\n",
      "Accuracy:  0.7734375\n",
      "Accuracy:  0.71875\n"
     ]
    },
    {
     "name": "stderr",
     "output_type": "stream",
     "text": [
      " 85%|████████▍ | 298/352 [00:20<00:02, 23.31it/s]"
     ]
    },
    {
     "name": "stdout",
     "output_type": "stream",
     "text": [
      "Accuracy:  0.6015625\n",
      "Accuracy:  0.76171875\n",
      "Accuracy:  0.6796875\n",
      "Accuracy:  0.83984375\n",
      "Accuracy:  0.7890625\n",
      "Accuracy:  0.7890625\n"
     ]
    },
    {
     "name": "stderr",
     "output_type": "stream",
     "text": [
      " 86%|████████▋ | 304/352 [00:20<00:02, 22.95it/s]"
     ]
    },
    {
     "name": "stdout",
     "output_type": "stream",
     "text": [
      "Accuracy:  0.75\n",
      "Accuracy:  0.7265625\n",
      "Accuracy:  0.80078125\n",
      "Accuracy:  0.76171875\n",
      "Accuracy:  0.70703125\n"
     ]
    },
    {
     "name": "stderr",
     "output_type": "stream",
     "text": [
      " 87%|████████▋ | 307/352 [00:21<00:01, 23.94it/s]"
     ]
    },
    {
     "name": "stdout",
     "output_type": "stream",
     "text": [
      "Accuracy:  0.82421875\n",
      "Accuracy:  0.76953125\n",
      "Accuracy:  0.7578125\n",
      "Accuracy:  0.828125\n",
      "Accuracy:  0.78125\n"
     ]
    },
    {
     "name": "stderr",
     "output_type": "stream",
     "text": [
      " 89%|████████▉ | 313/352 [00:21<00:01, 23.66it/s]"
     ]
    },
    {
     "name": "stdout",
     "output_type": "stream",
     "text": [
      "Accuracy:  0.7109375\n",
      "Accuracy:  0.8125\n",
      "Accuracy:  0.7578125\n",
      "Accuracy:  0.75\n",
      "Accuracy:  0.78515625\n"
     ]
    },
    {
     "name": "stderr",
     "output_type": "stream",
     "text": [
      " 91%|█████████ | 319/352 [00:21<00:01, 23.53it/s]"
     ]
    },
    {
     "name": "stdout",
     "output_type": "stream",
     "text": [
      "Accuracy:  0.81640625\n",
      "Accuracy:  0.7890625\n",
      "Accuracy:  0.8828125\n",
      "Accuracy:  0.87890625\n",
      "Accuracy:  0.9140625\n",
      "Accuracy:  0.8515625\n"
     ]
    },
    {
     "name": "stderr",
     "output_type": "stream",
     "text": [
      " 92%|█████████▏| 325/352 [00:21<00:01, 24.81it/s]"
     ]
    },
    {
     "name": "stdout",
     "output_type": "stream",
     "text": [
      "Accuracy:  0.87109375\n",
      "Accuracy:  0.90625\n",
      "Accuracy:  0.88671875\n",
      "Accuracy:  0.92578125\n",
      "Accuracy:  0.75\n",
      "Accuracy:  0.671875\n"
     ]
    },
    {
     "name": "stderr",
     "output_type": "stream",
     "text": [
      " 94%|█████████▍| 331/352 [00:22<00:00, 23.93it/s]"
     ]
    },
    {
     "name": "stdout",
     "output_type": "stream",
     "text": [
      "Accuracy:  0.640625\n",
      "Accuracy:  0.7265625\n",
      "Accuracy:  0.73046875\n",
      "Accuracy:  0.765625\n",
      "Accuracy:  0.73046875\n",
      "Accuracy:  0.73046875\n"
     ]
    },
    {
     "name": "stderr",
     "output_type": "stream",
     "text": [
      " 95%|█████████▍| 334/352 [00:22<00:00, 24.50it/s]"
     ]
    },
    {
     "name": "stdout",
     "output_type": "stream",
     "text": [
      "Accuracy:  0.78125\n",
      "Accuracy:  0.86328125\n",
      "Accuracy:  0.765625\n",
      "Accuracy:  0.796875\n",
      "Accuracy:  0.68359375\n"
     ]
    },
    {
     "name": "stderr",
     "output_type": "stream",
     "text": [
      " 97%|█████████▋| 340/352 [00:22<00:00, 21.77it/s]"
     ]
    },
    {
     "name": "stdout",
     "output_type": "stream",
     "text": [
      "Accuracy:  0.3984375\n",
      "Accuracy:  0.21484375\n",
      "Accuracy:  0.3671875\n",
      "Accuracy:  0.390625\n"
     ]
    },
    {
     "name": "stderr",
     "output_type": "stream",
     "text": [
      " 98%|█████████▊| 346/352 [00:22<00:00, 22.38it/s]"
     ]
    },
    {
     "name": "stdout",
     "output_type": "stream",
     "text": [
      "Accuracy:  0.6171875\n",
      "Accuracy:  0.6484375\n",
      "Accuracy:  0.52734375\n",
      "Accuracy:  0.64453125\n",
      "Accuracy:  0.71875\n",
      "Accuracy:  0.81640625\n"
     ]
    },
    {
     "name": "stderr",
     "output_type": "stream",
     "text": [
      " 99%|█████████▉| 349/352 [00:22<00:00, 22.79it/s]"
     ]
    },
    {
     "name": "stdout",
     "output_type": "stream",
     "text": [
      "Accuracy:  0.828125\n",
      "Accuracy:  0.80859375\n",
      "Accuracy:  0.703125\n",
      "Accuracy:  0.609375\n",
      "Accuracy:  0.625\n"
     ]
    },
    {
     "name": "stderr",
     "output_type": "stream",
     "text": [
      "100%|██████████| 352/352 [00:23<00:00, 14.96it/s]\n"
     ]
    }
   ],
   "source": [
    "model.eval()\n",
    "accuracies = evaluate(model, cinic_test)"
   ]
  },
  {
   "cell_type": "code",
   "execution_count": null,
   "metadata": {},
   "outputs": [
    {
     "data": {
      "text/plain": [
       "tensor(0.7342, device='cuda:0')"
      ]
     },
     "execution_count": 29,
     "metadata": {},
     "output_type": "execute_result"
    }
   ],
   "source": [
    "torch.mean(torch.concatenate([acc.reshape((-1)) for acc in accuracies]))"
   ]
  },
  {
   "cell_type": "code",
   "execution_count": 37,
   "metadata": {},
   "outputs": [
    {
     "name": "stderr",
     "output_type": "stream",
     "text": [
      "100%|██████████| 352/352 [03:10<00:00,  1.85it/s]\n"
     ]
    },
    {
     "data": {
      "text/plain": [
       "tensor(0.8439, device='cuda:0')"
      ]
     },
     "execution_count": 37,
     "metadata": {},
     "output_type": "execute_result"
    }
   ],
   "source": [
    "model.eval()\n",
    "accuracies_train, acc_train = evaluate(model, cinic_train)\n",
    "acc_train"
   ]
  },
  {
   "cell_type": "code",
   "execution_count": 33,
   "metadata": {},
   "outputs": [
    {
     "name": "stderr",
     "output_type": "stream",
     "text": [
      "100%|██████████| 352/352 [02:56<00:00,  2.00it/s]\n"
     ]
    },
    {
     "data": {
      "text/plain": [
       "tensor(0.7361, device='cuda:0')"
      ]
     },
     "execution_count": 33,
     "metadata": {},
     "output_type": "execute_result"
    }
   ],
   "source": [
    "accuracies_val, acc_val = evaluate(model, cinic_val)\n",
    "acc_val"
   ]
  },
  {
   "cell_type": "code",
   "execution_count": null,
   "metadata": {},
   "outputs": [],
   "source": []
  }
 ],
 "metadata": {
  "kernelspec": {
   "display_name": ".venv",
   "language": "python",
   "name": "python3"
  },
  "language_info": {
   "codemirror_mode": {
    "name": "ipython",
    "version": 3
   },
   "file_extension": ".py",
   "mimetype": "text/x-python",
   "name": "python",
   "nbconvert_exporter": "python",
   "pygments_lexer": "ipython3",
   "version": "3.11.3"
  }
 },
 "nbformat": 4,
 "nbformat_minor": 2
}
